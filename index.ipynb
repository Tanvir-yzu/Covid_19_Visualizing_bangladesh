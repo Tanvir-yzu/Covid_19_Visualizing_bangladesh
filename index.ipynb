{
 "cells": [
  {
   "cell_type": "code",
   "execution_count": 1,
   "id": "1584df50-d898-4b13-acf5-27ff4a5bd603",
   "metadata": {},
   "outputs": [],
   "source": [
    "import pandas as pd\n",
    "import numpy as np\n",
    "import matplotlib.pyplot as plt"
   ]
  },
  {
   "cell_type": "code",
   "execution_count": null,
   "id": "a023698b",
   "metadata": {},
   "outputs": [],
   "source": [
    "data = pd.read_csv('Bangladesh.csv')\n",
    "\n",
    "data.shape"
   ]
  },
  {
   "cell_type": "code",
   "execution_count": null,
   "id": "b544db2d",
   "metadata": {},
   "outputs": [],
   "source": [
    "data['date'] = pd.to_datetime(data['date'])\n",
    "\n",
    "\n",
    "\n",
    "data.head()"
   ]
  },
  {
   "cell_type": "code",
   "execution_count": null,
   "id": "e261c2f3",
   "metadata": {},
   "outputs": [],
   "source": [
    "print(data.isnull().sum())\n",
    "\n",
    "\n",
    "\n",
    "data_numeric = data.select_dtypes(include=['float64', 'int64'])\n",
    "\n",
    "data[data_numeric.columns] = data_numeric.interpolate(method='linear', limit_direction='forward')\n",
    "\n",
    "\n",
    "\n",
    "data.ffill(inplace=True)"
   ]
  },
  {
   "cell_type": "code",
   "execution_count": null,
   "id": "8c49405a",
   "metadata": {},
   "outputs": [],
   "source": [
    "data.describe()"
   ]
  },
  {
   "cell_type": "code",
   "execution_count": null,
   "id": "ca4e8445",
   "metadata": {},
   "outputs": [],
   "source": [
    "plt.figure(figsize=(10, 6))\n",
    "\n",
    "plt.fill_between(data['date'], data['total_cases'], color='Slateblue', alpha=0.2)\n",
    "\n",
    "plt.plot(data['date'], data['total_cases'], label='Total Cases', color='Slateblue', linewidth=2)\n",
    "\n",
    "plt.title('COVID-19 Total Cases in Bangladesh Over Time')\n",
    "\n",
    "plt.xlabel('Date')\n",
    "\n",
    "plt.ylabel('Total Cases')\n",
    "\n",
    "plt.grid(True, which='both', linestyle='--')\n",
    "\n",
    "plt.legend()\n",
    "\n",
    "plt.show()"
   ]
  },
  {
   "cell_type": "code",
   "execution_count": null,
   "id": "33eb9b02",
   "metadata": {},
   "outputs": [],
   "source": [
    "# new daily cases\n",
    "\n",
    "plt.figure(figsize=(10, 6))\n",
    "\n",
    "plt.fill_between(data['date'], data['new_cases'], color='Slateblue', alpha=0.3)\n",
    "\n",
    "plt.plot(data['date'], data['new_cases'], label='New Cases', color='Slateblue', linewidth=2)\n",
    "\n",
    "plt.title('Daily New COVID-19 Cases in Bangladesh')\n",
    "\n",
    "plt.xlabel('Date')\n",
    "\n",
    "plt.ylabel('New Cases')\n",
    "\n",
    "plt.grid(True, which='both', linestyle='--')\n",
    "\n",
    "plt.legend()\n",
    "\n",
    "plt.show()"
   ]
  },
  {
   "cell_type": "code",
   "execution_count": null,
   "id": "acd531ee",
   "metadata": {},
   "outputs": [],
   "source": [
    "# total deaths over time\n",
    "\n",
    "plt.figure(figsize=(10, 6))\n",
    "\n",
    "plt.fill_between(data['date'], data['total_deaths'], color='red', alpha=0.2)\n",
    "\n",
    "plt.plot(data['date'], data['total_deaths'], label='Total Deaths', color='red', linewidth=2)\n",
    "\n",
    "plt.title('Total COVID-19 Deaths in bangladesh Over Time')\n",
    "\n",
    "plt.xlabel('Date')\n",
    "\n",
    "plt.ylabel('Total Deaths')\n",
    "\n",
    "plt.grid(True, which='both', linestyle='--')\n",
    "\n",
    "plt.legend()\n",
    "\n",
    "plt.show()"
   ]
  },
  {
   "cell_type": "code",
   "execution_count": null,
   "id": "2b589044",
   "metadata": {},
   "outputs": [],
   "source": [
    "# Plotting daily deaths over time\n",
    "\n",
    "plt.figure(figsize=(10, 6))\n",
    "\n",
    "plt.fill_between(data['date'], data['new_deaths'], color='red', alpha=0.3)\n",
    "\n",
    "plt.plot(data['date'], data['new_deaths'], color='red', label='Daily Deaths')\n",
    "\n",
    "plt.title('Daily COVID-19 Deaths in Bangladesh')\n",
    "\n",
    "plt.xlabel('Date')\n",
    "\n",
    "plt.ylabel('Number of Deaths')\n",
    "\n",
    "plt.grid(True, which='both', linestyle='--')\n",
    "\n",
    "plt.legend()\n",
    "\n",
    "plt.show()"
   ]
  },
  {
   "cell_type": "code",
   "execution_count": null,
   "id": "ce6a1ad2",
   "metadata": {},
   "outputs": [],
   "source": [
    "plt.figure(figsize=(10, 6))\n",
    "\n",
    "plt.fill_between(data['date'], data['reproduction_rate'], color='purple', alpha=0.2)\n",
    "\n",
    "plt.plot(data['date'], data['reproduction_rate'], label='Reproduction Rate', color='purple', linewidth=2)\n",
    "\n",
    "plt.title('COVID-19 Reproduction Rate in Bangladesh Over Time')\n",
    "\n",
    "plt.xlabel('Date')\n",
    "\n",
    "plt.ylabel('Reproduction Rate')\n",
    "\n",
    "plt.grid(True, which='both', linestyle='--')\n",
    "\n",
    "plt.legend()\n",
    "\n",
    "plt.show()"
   ]
  },
  {
   "cell_type": "code",
   "execution_count": null,
   "id": "3803e21a",
   "metadata": {},
   "outputs": [],
   "source": [
    "plt.figure(figsize=(10, 6))\n",
    "\n",
    "plt.fill_between(data['date'], data['total_vaccinations'], color='orange', alpha=0.2)\n",
    "\n",
    "plt.plot(data['date'], data['total_vaccinations'], label='Total Vaccinations', color='orange', linewidth=2)\n",
    "\n",
    "plt.title('COVID-19 Total Vaccinations in Bangladesh Over Time')\n",
    "\n",
    "plt.xlabel('Date')\n",
    "\n",
    "plt.ylabel('Total Vaccinations')\n",
    "\n",
    "plt.grid(True, which='both', linestyle='--')\n",
    "\n",
    "plt.legend()\n",
    "\n",
    "plt.show()"
   ]
  },
  {
   "cell_type": "code",
   "execution_count": null,
   "id": "731fbd82",
   "metadata": {},
   "outputs": [],
   "source": [
    "vaccinated = data['people_vaccinated'].max()\n",
    "\n",
    "fully_vaccinated = data['people_fully_vaccinated'].max()\n",
    "\n",
    "total_population = data['population'].max()\n",
    "\n",
    "\n",
    "\n",
    "labels = ['Vaccinated', 'Fully Vaccinated', 'Unvaccinated']\n",
    "\n",
    "sizes = [vaccinated, fully_vaccinated, total_population - vaccinated]\n",
    "\n",
    "\n",
    "\n",
    "plt.figure(figsize=(5, 5))\n",
    "\n",
    "plt.pie(sizes, labels=labels, autopct='%1.1f%%', colors=['lightgreen', 'green', 'red'], startangle=90)\n",
    "\n",
    "plt.title('Vaccination Progress in Bangladesh')\n",
    "\n",
    "plt.show()"
   ]
  }
 ],
 "metadata": {
  "kernelspec": {
   "display_name": "myenv",
   "language": "python",
   "name": "python3"
  },
  "language_info": {
   "codemirror_mode": {
    "name": "ipython",
    "version": 3
   },
   "file_extension": ".py",
   "mimetype": "text/x-python",
   "name": "python",
   "nbconvert_exporter": "python",
   "pygments_lexer": "ipython3",
   "version": "3.12.4"
  }
 },
 "nbformat": 4,
 "nbformat_minor": 5
}
